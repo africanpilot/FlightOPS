{
 "cells": [
  {
   "cell_type": "markdown",
   "metadata": {},
   "source": [
    "# NKSOPS_01_Environment_01"
   ]
  },
  {
   "cell_type": "code",
   "execution_count": 2,
   "metadata": {},
   "outputs": [],
   "source": [
    "import pandas as pd\n",
    "import numpy as np\n",
    "import glob\n",
    "import os\n",
    "import nltk\n",
    "import random\n",
    "import re\n",
    "import sqlite3\n",
    "import requests\n",
    "import lxml.html as lh\n",
    "import pyodbc\n",
    "# import pywin32\n",
    "from datetime import datetime\n",
    "from bs4 import BeautifulSoup\n",
    "from sqlite3 import Error\n",
    "from sqlalchemy import exc\n",
    "from IPython.display import display_html\n",
    "\n",
    "\n",
    "#Enable Intellisense\n",
    "%config IPCompleter.greedy=True"
   ]
  },
  {
   "cell_type": "code",
   "execution_count": null,
   "metadata": {},
   "outputs": [],
   "source": []
  }
 ],
 "metadata": {
  "kernelspec": {
   "display_name": "Python 3",
   "language": "python",
   "name": "python3"
  },
  "language_info": {
   "codemirror_mode": {
    "name": "ipython",
    "version": 3
   },
   "file_extension": ".py",
   "mimetype": "text/x-python",
   "name": "python",
   "nbconvert_exporter": "python",
   "pygments_lexer": "ipython3",
   "version": "3.7.3"
  }
 },
 "nbformat": 4,
 "nbformat_minor": 2
}
