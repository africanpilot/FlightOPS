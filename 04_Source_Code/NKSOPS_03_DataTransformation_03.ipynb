{
 "cells": [
  {
   "cell_type": "markdown",
   "metadata": {},
   "source": [
    "# NKSOPS_03_DataTransformation_02"
   ]
  },
  {
   "cell_type": "code",
   "execution_count": null,
   "metadata": {},
   "outputs": [],
   "source": [
    "#load Enviornment\n",
    "%run NKSOPS_02_ClassAndMethods_02.ipynb"
   ]
  },
  {
   "cell_type": "code",
   "execution_count": null,
   "metadata": {},
   "outputs": [],
   "source": [
    "# Get count of tables\n",
    "# file = pd.read_html(r\"C:\\Users\\76350\\Documents\\NKS_OPS\\03_Data\\htmlfiles\\502 Mx Os.htm\")\n",
    "# print(len(file.index))"
   ]
  },
  {
   "cell_type": "code",
   "execution_count": null,
   "metadata": {},
   "outputs": [],
   "source": [
    "count = 0\n",
    "mergedtables = pd.DataFrame()\n",
    "while count <= 12:\n",
    "    filecurr = pd.read_html(r\"C:\\Users\\76350\\Documents\\NKS_OPS\\03_Data\\htmlfiles\\502 Mx Os.htm\")[count]\n",
    "    count = count + 1\n",
    "    display(filecurr)"
   ]
  },
  {
   "cell_type": "code",
   "execution_count": null,
   "metadata": {
    "scrolled": true
   },
   "outputs": [],
   "source": [
    "#Assign each table to a variable\n",
    "event_chronology = pd.read_html(r\"C:\\Users\\76350\\Documents\\NKS_OPS\\03_Data\\htmlfiles\\502 Mx Os.htm\")[9]\n",
    "troubleshooting = pd.read_html(r\"C:\\Users\\76350\\Documents\\NKS_OPS\\03_Data\\htmlfiles\\502 Mx Os.htm\")[10]\n",
    "\n",
    "#Rename columns and create unique ID\n",
    "troubleshooting.columns= ['TS_Action','TS_Department','TS_Next_Department','TS_Description']\n",
    "troubleshooting = troubleshooting.rename_axis('ID').reset_index()\n",
    "troubleshooting['EC_TS_ID'] = troubleshooting['ID'].astype(str) +\"_\" +  troubleshooting['TS_Action']\n",
    "\n",
    "#Rename columns and create unique ID\n",
    "event_chronology.columns= ['Event_Chronology','EC_Action','EC_Date','EC_Airport','EC_Category']\n",
    "event_chronology = event_chronology.rename_axis('ID').reset_index()\n",
    "event_chronology['ID_EC_TS'] = event_chronology['ID'].astype(str) +\"_\" +  event_chronology['EC_Category']\n",
    "\n",
    "event_chronology_rename = event_chronology[event_chronology['EC_Category'] == 'Information'].reset_index().rename_axis('ID_EC').reset_index()\n",
    "event_chronology_rename['EC_TS_ID'] = event_chronology_rename['ID_EC'].astype(str) +\"_\" +  event_chronology_rename['EC_Category']\n",
    "\n",
    "#Merge the two tables on the unique ID and event order of information\n",
    "merged_ec_ts = event_chronology_rename.merge(troubleshooting, on=\"EC_TS_ID\").drop(columns =['ID_EC','ID_x','ID_y'])\n",
    "merged_ec_ts['ID_EC_TS'] = merged_ec_ts['index'].astype(str) +\"_\" +  merged_ec_ts['TS_Action']\n",
    "merged_ec_ts = event_chronology.merge(merged_ec_ts, on=\"ID_EC_TS\", how = \"left\")\n",
    "\n",
    "display(merged_ec_ts)\n"
   ]
  },
  {
   "cell_type": "code",
   "execution_count": null,
   "metadata": {},
   "outputs": [],
   "source": [
    "# Merge all other tables that are not event_chronology and troubleshooting\n",
    "count = 0\n",
    "mergedtables = pd.DataFrame()\n",
    "while count <= 9:\n",
    "    filecurr = pd.read_html(r\"C:\\Users\\76350\\Documents\\NKS_OPS\\03_Data\\htmlfiles\\502 Mx Os.htm\")[count]\n",
    "    mergedtables = pd.concat([mergedtables, filecurr.reindex(filecurr.index)], axis=1)\n",
    "    count = count + 1\n",
    "    \n",
    "count2 = 11\n",
    "mergedtables = mergedtables\n",
    "while count2 <= 12:\n",
    "    filecurr2 = pd.read_html(r\"C:\\Users\\76350\\Documents\\NKS_OPS\\03_Data\\htmlfiles\\502 Mx Os.htm\")[count2]\n",
    "    mergedtables = pd.concat([mergedtables, filecurr2.reindex(filecurr2.index)], axis=1)\n",
    "    count2 = count2 + 1\n",
    "\n",
    "    \n",
    "mergedtables =  mergedtables.rename(columns = {\"Date/Time (Lt)\": 'Date_Time',\"Log Page:\":'Log_Page'}).fillna(method='ffill')\n",
    "# mergedtables[\"Unique_Flight\"] = mergedtables[\"Date_Time\"].astype(object) + \"_\" + mergedtables[\"Tail\"].astype(str)\n",
    "# mergedtables[['Date','Time']] = mergedtables['Date_Time'].astype(object).str.split(' ',expand=True)\n",
    "\n",
    "\n",
    "mergedtablesfin = pd.concat([mergedtables, merged_ec_ts.reindex(merged_ec_ts.index)], axis=1)\n",
    "\n",
    "display(list(mergedtablesfin))\n",
    "display(mergedtablesfin)\n",
    "mergedtablesfin.to_csv(r\"C:\\Users\\76350\\Documents\\NKS_OPS\\03_Data\\htmlfiles\\mergedtables.csv\")"
   ]
  },
  {
   "cell_type": "code",
   "execution_count": null,
   "metadata": {},
   "outputs": [],
   "source": []
  }
 ],
 "metadata": {
  "hide_input": false,
  "kernelspec": {
   "display_name": "Python 3",
   "language": "python",
   "name": "python3"
  },
  "language_info": {
   "codemirror_mode": {
    "name": "ipython",
    "version": 3
   },
   "file_extension": ".py",
   "mimetype": "text/x-python",
   "name": "python",
   "nbconvert_exporter": "python",
   "pygments_lexer": "ipython3",
   "version": "3.7.3"
  },
  "toc": {
   "base_numbering": 1,
   "nav_menu": {},
   "number_sections": true,
   "sideBar": true,
   "skip_h1_title": false,
   "title_cell": "Table of Contents",
   "title_sidebar": "Contents",
   "toc_cell": false,
   "toc_position": {},
   "toc_section_display": true,
   "toc_window_display": false
  }
 },
 "nbformat": 4,
 "nbformat_minor": 2
}
