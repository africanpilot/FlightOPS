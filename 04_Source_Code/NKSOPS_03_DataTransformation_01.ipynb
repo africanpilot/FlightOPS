{
 "cells": [
  {
   "cell_type": "markdown",
   "metadata": {},
   "source": [
    "# NKSOPS_03_DataTransformation_01"
   ]
  },
  {
   "cell_type": "code",
   "execution_count": null,
   "metadata": {},
   "outputs": [],
   "source": [
    "#load Enviornment\n",
    "%run NKSOPS_02_ClassAndMethods_01.ipynb"
   ]
  },
  {
   "cell_type": "code",
   "execution_count": null,
   "metadata": {},
   "outputs": [],
   "source": [
    "# Initalize\n",
    "NKS_OPS_OUTLOOK_EXPORTS_INFO = NKS_OPS(input_path = r\"C:\\Users\\76350\\Documents\\NKS_OPS\\03_Data\\01_Raw_Data\\DataFiles\\MXEmail\\*.csv\"\n",
    "                                   , export_parent_dir = r\"C:\\Users\\76350\\Documents\\NKS_OPS\\03_Data\\02_Processed_Data\"\n",
    "                                   , input_columns = None\n",
    "                                   , export_columns = ['Body',\"Unique_ID\",\"From: (Name)\",\"FILE_PATH\"]\n",
    "                                   , research_topic = 'NKS_OPS_Data_Study'\n",
    "                                   , severity = 'H'\n",
    "                                   , logfile = False\n",
    "                                   , sqlite_create = r\"C:\\Users\\76350\\Documents\\NKS_OPS\\03_Data\\03_Cleaned_Data\\DataBase\\NKS_OPS_DB_sqlite.db\")"
   ]
  },
  {
   "cell_type": "code",
   "execution_count": null,
   "metadata": {},
   "outputs": [],
   "source": [
    "#1 Execute method to get impoted email files, add unique_id/ filepath, and\n",
    "NKS_OPS_OUTLOOK_EXPORTS_INFO.NKS_OPS_Data_Study()\n",
    "\n",
    "#1.a Append to single dataframe and rename column\n",
    "Appened_DF = NKS_OPS_OUTLOOK_EXPORTS_INFO.Append_to_DF()\n",
    "Appened_DF.rename(columns={\"From: (Name)\": 'From_Name'}, inplace=True)"
   ]
  },
  {
   "cell_type": "code",
   "execution_count": null,
   "metadata": {},
   "outputs": [],
   "source": [
    "#2 Parse and Extract Sections of Body and create New columns\n",
    "\n",
    "#2.a MESSAGE_TYPE\n",
    "NKS_OPS_OUTLOOK_EXPORTS_INFO.Extract_Between_Text(df=Appened_DF, newcolumn='MESSAGETYPE', textcolumn='Body', start='MX', end='MESSAGE')\n",
    "Appened_DF.loc[:,'MESSAGETYPE'] = 'MX' + Appened_DF.loc[:,'MESSAGETYPE'] + 'MESSAGE'\n",
    "grouped_messages = Appened_DF.loc[:,'MESSAGETYPE'].dropna().unique()\n",
    "\n",
    "new_df = pd.DataFrame()\n",
    "for message in grouped_messages:\n",
    "    data_item = Appened_DF.copy()\n",
    "    data_item = data_item[data_item.loc[:,'MESSAGETYPE'].str.contains(message)]\n",
    "    \n",
    "    if message == \"MX AIRCRAFT OOS MESSAGE\":\n",
    "        #2.b Top Section of Message\n",
    "        NKS_OPS_OUTLOOK_EXPORTS_INFO.Extract_Between_Text(df=data_item, newcolumn='DATE', textcolumn='Body', start='DATE: ', end='TAIL: ')\n",
    "        NKS_OPS_OUTLOOK_EXPORTS_INFO.Extract_Between_Text(df=data_item, newcolumn='TAIL', textcolumn='Body', start='TAIL: ', end='STATION: ').str[:3]\n",
    "        NKS_OPS_OUTLOOK_EXPORTS_INFO.Extract_Between_Text(df=data_item, newcolumn='STATION', textcolumn='Body', start='STATION: ', end='DESCRIPTION: ').str[:3]\n",
    "        NKS_OPS_OUTLOOK_EXPORTS_INFO.Extract_Between_Text(df=data_item, newcolumn='DESCRIPTION', textcolumn='Body', start='DESCRIPTION: ', end=r\"STD..GMT...\")\n",
    "        data_item.loc[:,'TROUBLESHOOTING'] = ''\n",
    "        data_item.loc[:,'CORRECTIVEACTION'] = ''\n",
    "\n",
    "        #2.c Bottom Section of Message\n",
    "        NKS_OPS_OUTLOOK_EXPORTS_INFO.Extract_Between_Text(df=data_item, newcolumn='STD_GMT', textcolumn='Body', start= r\"STD..GMT...\", end=r\"ETRS..LT...\")\n",
    "        NKS_OPS_OUTLOOK_EXPORTS_INFO.Extract_Between_Text(df=data_item, newcolumn='ETRS_DATE', textcolumn='Body', start=r\"ETRS..LT...\", end='DESTINATION: ')\n",
    "        data_item.loc[:,'RTS_DATE'] = ''\n",
    "        NKS_OPS_OUTLOOK_EXPORTS_INFO.Extract_Between_Text(df=data_item, newcolumn='DESTINATION', textcolumn='Body', start=\"DESTINATION: \", end=\"\\r\\n\")\n",
    "           \n",
    "        #2.d Make columns visible in csv\n",
    "        data_item.loc[:,'TAIL'] = data_item.loc[:,'TAIL'].str[:3]\n",
    "        data_item.loc[:,'STATION'] = data_item.loc[:,'STATION'].str[:3]\n",
    "        new_df= new_df.append(data_item,ignore_index=True)\n",
    "        \n",
    "    if message == \"MX AIRCRAFT OOS UPDATE MESSAGE\":\n",
    "\n",
    "        #2.e Top Section of Message\n",
    "        NKS_OPS_OUTLOOK_EXPORTS_INFO.Extract_Between_Text(df=data_item, newcolumn='DATE', textcolumn='Body', start='DATE: ', end='TAIL: ')\n",
    "        NKS_OPS_OUTLOOK_EXPORTS_INFO.Extract_Between_Text(df=data_item, newcolumn='TAIL', textcolumn='Body', start='TAIL: ', end='STATION: ').str[:3]\n",
    "        NKS_OPS_OUTLOOK_EXPORTS_INFO.Extract_Between_Text(df=data_item, newcolumn='STATION', textcolumn='Body', start='STATION: ', end='DESCRIPTION: ').str[:3]\n",
    "        NKS_OPS_OUTLOOK_EXPORTS_INFO.Extract_Between_Text(df=data_item, newcolumn='DESCRIPTION', textcolumn='Body', start='DESCRIPTION: ', end='TROUBLESHOOTING: ')\n",
    "        NKS_OPS_OUTLOOK_EXPORTS_INFO.Extract_Between_Text(df=data_item, newcolumn='TROUBLESHOOTING', textcolumn='Body', start='TROUBLESHOOTING: ', end=r\"STD..GMT...\")\n",
    "        data_item.loc[:,'CORRECTIVEACTION'] = ''\n",
    "\n",
    "        #2.f Bottom Section of Message\n",
    "        NKS_OPS_OUTLOOK_EXPORTS_INFO.Extract_Between_Text(df=data_item, newcolumn='STD_GMT', textcolumn='Body', start= r\"STD..GMT...\", end=r\"ETRS..LT...\")\n",
    "        NKS_OPS_OUTLOOK_EXPORTS_INFO.Extract_Between_Text(df=data_item, newcolumn='ETRS_DATE', textcolumn='Body', start=r\"ETRS..LT...\", end='DESTINATION: ')\n",
    "        data_item.loc[:,'RTS_DATE'] = ''\n",
    "        NKS_OPS_OUTLOOK_EXPORTS_INFO.Extract_Between_Text(df=data_item, newcolumn='DESTINATION', textcolumn='Body', start=\"DESTINATION: \", end=\"\\r\\n\")\n",
    "        \n",
    "        #2.g Make columns visible in csv\n",
    "        data_item.loc[:,'TAIL'] = data_item.loc[:,'TAIL'].str[:3]\n",
    "        data_item.loc[:,'STATION'] = data_item.loc[:,'STATION'].str[:3]\n",
    "        new_df= new_df.append(data_item,ignore_index=True)\n",
    "              \n",
    "    if message == \"MX AIRCRAFT OOS RETURN TO SERVICE MESSAGE\":\n",
    "\n",
    "        #2.h Top Section of Message\n",
    "        data_item.loc[:,'DATE'] = ''\n",
    "        NKS_OPS_OUTLOOK_EXPORTS_INFO.Extract_Between_Text(df=data_item, newcolumn='TAIL', textcolumn='Body', start='TAIL: ', end='STATION: ').str[:3]\n",
    "        NKS_OPS_OUTLOOK_EXPORTS_INFO.Extract_Between_Text(df=data_item, newcolumn='STATION', textcolumn='Body', start='STATION: ', end='DESCRIPTION: ').str[:3]\n",
    "        NKS_OPS_OUTLOOK_EXPORTS_INFO.Extract_Between_Text(df=data_item, newcolumn='DESCRIPTION', textcolumn='Body', start='DESCRIPTION: ', end='CORRECTIVE ACTION: ')\n",
    "        data_item.loc[:,'TROUBLESHOOTING'] = ''\n",
    "        NKS_OPS_OUTLOOK_EXPORTS_INFO.Extract_Between_Text(df=data_item, newcolumn='CORRECTIVEACTION', textcolumn='Body', start='CORRECTIVE ACTION: ', end=r\"STD..GMT...\")\n",
    "\n",
    "        #2.i Bottom Section of Message\n",
    "        NKS_OPS_OUTLOOK_EXPORTS_INFO.Extract_Between_Text(df=data_item, newcolumn='STD_GMT', textcolumn='Body', start=r\"STD..GMT...\", end='RTS DATE: ')\n",
    "        data_item.loc[:,'ETRS_DATE'] = ''\n",
    "        NKS_OPS_OUTLOOK_EXPORTS_INFO.Extract_Between_Text(df=data_item, newcolumn='RTS_DATE', textcolumn='Body', start='RTS DATE: ', end='DESTINATION: ')\n",
    "        NKS_OPS_OUTLOOK_EXPORTS_INFO.Extract_Between_Text(df=data_item, newcolumn='DESTINATION', textcolumn='Body', start='DESTINATION: ', end=\"\\r\\n\")\n",
    "        \n",
    "        #2.j Make columns visible in csv\n",
    "        data_item.loc[:,'TAIL'] = data_item.loc[:,'TAIL'].str[:3]\n",
    "        data_item.loc[:,'STATION'] = data_item.loc[:,'STATION'].str[:3]\n",
    "        new_df= new_df.append(data_item,ignore_index=True)\n",
    "\n",
    "\n"
   ]
  },
  {
   "cell_type": "code",
   "execution_count": null,
   "metadata": {},
   "outputs": [],
   "source": [
    "#2.k Export results to cs\n",
    "new_df['Unique_ID'] = new_df['Unique_ID'].astype(str) + \"_\" + new_df['ID'].astype(str)+ \"_\" + new_df['MESSAGETYPE'].astype(str) + \"_\" + new_df['TAIL'].astype(str) + \"_\" + new_df['STATION'].astype(str) + \"_\" + new_df['DESTINATION'].astype(str)\n",
    "new_df['Unique_ID'] = new_df['Unique_ID'].str.replace(' ','')\n",
    "new_df['DATE'] = new_df['DATE'].str.replace('\\r\\n','')\n",
    "new_df['STD_GMT'] = new_df['STD_GMT'].str.replace('\\r\\n','')\n",
    "new_df['ETRS_DATE'] = new_df['ETRS_DATE'].str.replace('\\r\\n','')\n",
    "new_df['RTS_DATE'] = new_df['RTS_DATE'].str.replace('\\r\\n','')\n",
    "new_df[['DATE_DATE','DATE_TIME']] = new_df['DATE'].str.split(' ',expand=True)\n",
    "new_df[['DATE_DATE','DATE_TIME']] = new_df['DATE'].str.split(' ',expand=True)\n",
    "new_df.to_csv(r'C:\\Users\\76350\\Documents\\NKS_OPS\\03_Data\\03_Cleaned_Data\\DataFiles\\Finial.csv', index=False)\n",
    "new_df"
   ]
  },
  {
   "cell_type": "code",
   "execution_count": null,
   "metadata": {},
   "outputs": [],
   "source": [
    "# #export to sqlite3\n",
    "# NKS_OPS_OUTLOOK_EXPORTS_INFO.NKS_OPS_DB(dbname=NKS_OPS_OUTLOOK_EXPORTS_INFO.sqlite_create)\n",
    "# num_rows = len(new_df)\n",
    "# conn = NKS_OPS_OUTLOOK_EXPORTS_INFO.create_connection(db_file = NKS_OPS_OUTLOOK_EXPORTS_INFO.sqlite_create)\n",
    "# cur = conn.cursor()\n",
    "# for opsrow in range(num_rows):\n",
    "#     try:\n",
    "#         new_df.iloc[opsrow:opsrow+1].to_sql(name='NKS_OPS', con=conn, if_exists='append', chunksize=1000, index=False)\n",
    "#     except exc.IntegrityError:\n",
    "#         #Ignore duplicates\n",
    "#         pass"
   ]
  }
 ],
 "metadata": {
  "hide_input": false,
  "kernelspec": {
   "display_name": "Python 3",
   "language": "python",
   "name": "python3"
  },
  "language_info": {
   "codemirror_mode": {
    "name": "ipython",
    "version": 3
   },
   "file_extension": ".py",
   "mimetype": "text/x-python",
   "name": "python",
   "nbconvert_exporter": "python",
   "pygments_lexer": "ipython3",
   "version": "3.7.3"
  },
  "toc": {
   "base_numbering": 1,
   "nav_menu": {},
   "number_sections": true,
   "sideBar": true,
   "skip_h1_title": false,
   "title_cell": "Table of Contents",
   "title_sidebar": "Contents",
   "toc_cell": false,
   "toc_position": {},
   "toc_section_display": true,
   "toc_window_display": false
  }
 },
 "nbformat": 4,
 "nbformat_minor": 2
}
