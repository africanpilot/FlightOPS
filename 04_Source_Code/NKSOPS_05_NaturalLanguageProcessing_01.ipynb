{
 "cells": [
  {
   "cell_type": "code",
   "execution_count": null,
   "metadata": {
    "scrolled": false
   },
   "outputs": [],
   "source": [
    "#load Enviornment\n",
    "%run NKSOPS_02_ClassAndMethods_01.ipynb"
   ]
  },
  {
   "cell_type": "code",
   "execution_count": null,
   "metadata": {
    "scrolled": false
   },
   "outputs": [],
   "source": [
    "NKS_OPS_OUTLOOK_EXPORTS_INFO = NKS_OPS(input_path = r\"C:\\Users\\76350\\Documents\\NKS_OPS\\03_Data\\01_Raw_Data\\DataFiles\\*.csv\"\n",
    "                                   , export_parent_dir = r\"C:\\Users\\76350\\Documents\\NKS_OPS\\03_Data\\02_Processed_Data\"\n",
    "                                   , input_columns = None\n",
    "                                   , export_columns = ['Body',\"Unique_ID\",\"From: (Name)\",\"FILE_PATH\"]\n",
    "                                   , research_topic = 'NKS_OPS_Data_Study'\n",
    "                                   , severity = 'H'\n",
    "                                   , logfile = False\n",
    "                                   , sqlite_create = r\"C:\\Users\\76350\\Documents\\NKS_OPS\\03_Data\\03_Cleaned_Data\\DataBase\\NKS_OPS_DB_sqlite.db\")"
   ]
  },
  {
   "cell_type": "code",
   "execution_count": null,
   "metadata": {
    "scrolled": false
   },
   "outputs": [],
   "source": [
    "conn = NKS_OPS_OUTLOOK_EXPORTS_INFO.create_connection(db_file = NKS_OPS_OUTLOOK_EXPORTS_INFO.sqlite_create)\n",
    "cur = conn.cursor()\n",
    "\n",
    "# Get data from sqlite\n",
    "nks_ops_query = \"\"\"\n",
    "select * from NKS_OPS;\"\"\"\n",
    "\n",
    "nks_flights_query = \"\"\"\n",
    "select * from NKS_FLIGHTS;\"\"\"\n",
    "\n",
    "nks_ops = pd.read_sql(nks_ops_query, conn)\n",
    "nks_flights = pd.read_sql(nks_flights_query, conn)"
   ]
  },
  {
   "cell_type": "code",
   "execution_count": null,
   "metadata": {
    "scrolled": false
   },
   "outputs": [],
   "source": [
    "# merge messages on departure airport\n",
    "merged_ops_flights_deprt = nks_ops.merge(nks_flights, on=\"Unique_Flight_Deprt\", how=\"left\")\n",
    "merged_ops_flights_deprt = merged_ops_flights_deprt[[\"Unique_ID\", \"Received\",\"MESSAGETYPE\",\"Unique_Flight_Deprt\"\n",
    "                                         ,\"Unique_Flight_Arrvl_y\",\"TAIL\",\"Event_Order\",\"Unique_Flight\",\"Actual_Delay\",\"Delay_Code\"]]\n",
    "\n",
    "# merge messages on arrival airport\n",
    "merged_ops_flights_arrvl = nks_ops.merge(nks_flights, on=\"Unique_Flight_Arrvl\", how=\"left\")\n",
    "merged_ops_flights_arrvl = merged_ops_flights_arrvl[[\"Unique_ID\", \"Received\",\"MESSAGETYPE\",\"Unique_Flight_Deprt_y\"\n",
    "                                         ,\"Unique_Flight_Arrvl\",\"TAIL\",\"Event_Order\",\"Unique_Flight\",\"Actual_Delay\",\"Delay_Code\"]]\n",
    "\n",
    "# merge messages on depature and arrival airport\n",
    "merged_ops_flights_deprt_arrvl = merged_ops_flights_deprt.merge(merged_ops_flights_arrvl[['Unique_ID','Unique_Flight_Arrvl','Unique_Flight','Actual_Delay','Delay_Code']], on=\"Unique_ID\", how=\"inner\", suffixes=('_Dep','_Arr'))\n",
    "merged_ops_flights_deprt_arrvl = merged_ops_flights_deprt_arrvl.drop(columns=['Unique_Flight_Arrvl_y'])\n",
    "move_col = merged_ops_flights_deprt_arrvl.columns.tolist()\n",
    "move_col.insert(5, move_col.pop(move_col.index('Unique_Flight_Deprt')))\n",
    "merged_ops_flights_deprt_arrvl = merged_ops_flights_deprt_arrvl.reindex(columns= move_col)\n",
    "merged_ops_flights_deprt_arrvl.to_csv(r\"C:\\Users\\76350\\Documents\\NKS_OPS\\03_Data\\03_Cleaned_Data\\DataFiles\\merged_ops_flights_deprt_arrvl.csv\")\n",
    "\n",
    "# display(merged_ops_flights_deprt_arrvl[(merged_ops_flights_deprt_arrvl['TAIL'] ==\"527\")])\n",
    "display(merged_ops_flights_deprt_arrvl.sort_values(by=('Received'), ascending= False).head())\n"
   ]
  },
  {
   "cell_type": "code",
   "execution_count": null,
   "metadata": {
    "scrolled": true
   },
   "outputs": [],
   "source": [
    "# get description frequency\n",
    "nks_ops_ca = nks_ops[nks_ops['MESSAGETYPE'] == \"MX AIRCRAFT OOS RETURN TO SERVICE MESSAGE\"]\n",
    "word_dist = nltk.FreqDist(nks_ops_ca['DESCRIPTION'])\n",
    "word_dist_df = pd.DataFrame(word_dist.most_common(100),columns=['Word','Frequency'])\n",
    "display(word_dist_df)\n"
   ]
  },
  {
   "cell_type": "code",
   "execution_count": null,
   "metadata": {},
   "outputs": [],
   "source": [
    "# nks_ops_tokenize['tokenized_sents'] = nks_ops.apply(lambda row: nltk.word_tokenize(row['DESCRIPTION']), axis=1)\n",
    "# display(nks_ops_tokenize)\n",
    "\n",
    "nks_ops_tokenize = nks_ops.DESCRIPTION.str.split(expand=True).stack().value_counts()[:20]\n",
    "display(pd.DataFrame(nks_ops_tokenize).head())\n",
    "\n",
    "# tokenize the sentences into words\n",
    "nks_ops['words'] = nks_ops.DESCRIPTION.str.strip().str.split('[\\W_]+')\n",
    "nks_ops_word = nks_ops[['TAIL','DESCRIPTION','words']]\n",
    "\n",
    "# list each word as a row\n",
    "rows = list()\n",
    "for row in nks_ops_word[['TAIL', 'words']].iterrows():\n",
    "    r = row[1]\n",
    "    for word in r.words:\n",
    "        rows.append((r.TAIL, word))\n",
    "\n",
    "words = pd.DataFrame(rows, columns=['TAIL', 'word'])\n",
    "\n",
    "# remove empty strings\n",
    "words = words[words.word.str.len() > 0]\n",
    "\n",
    "# get word counts per tail\n",
    "counts = words.groupby('TAIL')\\\n",
    "    .word.value_counts()\\\n",
    "    .to_frame()\\\n",
    "    .rename(columns={'word':'n_w'})\n",
    "\n",
    "# function to get top_n and plot\n",
    "def pretty_plot_top_n(series, top_n=5, index_level=0):\n",
    "    r = series\\\n",
    "    .groupby(level=index_level)\\\n",
    "    .nlargest(top_n)\\\n",
    "    .reset_index(level=index_level, drop=True)\n",
    "#     r.plot.bar()\n",
    "    return r.to_frame()\n",
    "\n",
    "\n",
    "pretty_plot_top_n(counts['n_w'])\n",
    "\n",
    "\n"
   ]
  },
  {
   "cell_type": "code",
   "execution_count": null,
   "metadata": {
    "scrolled": true
   },
   "outputs": [],
   "source": [
    "ac_damage = merged_ops_flights_deprt_arrvl[merged_ops_flights_deprt_arrvl['Event_Order'].str.contains(\"BIRD|DAMAGE|STRIKE|DMG|LIGHTNNING\", na=False)]\n",
    "display(ac_damage.sort_values(by=('Received'), ascending= False))"
   ]
  },
  {
   "cell_type": "code",
   "execution_count": null,
   "metadata": {
    "scrolled": false
   },
   "outputs": [],
   "source": [
    "# new_df = nks_ops[[\"Unique_ID\",\"TAIL\"]]\n",
    "# new_df= new_df.groupby(by=[\"TAIL\"]).count().reset_index().sort_values(\"Unique_ID\", ascending =False).head(20)\n",
    "# display(new_df)\n",
    "\n",
    "# import matplotlib.pyplot as plt \n",
    "# new_df.plot(kind='bar',x='TAIL',y='Unique_ID') \n",
    "# plt.show() "
   ]
  },
  {
   "cell_type": "code",
   "execution_count": null,
   "metadata": {
    "scrolled": true
   },
   "outputs": [],
   "source": [
    "conn.close()"
   ]
  }
 ],
 "metadata": {
  "hide_input": false,
  "kernelspec": {
   "display_name": "Python 3",
   "language": "python",
   "name": "python3"
  },
  "language_info": {
   "codemirror_mode": {
    "name": "ipython",
    "version": 3
   },
   "file_extension": ".py",
   "mimetype": "text/x-python",
   "name": "python",
   "nbconvert_exporter": "python",
   "pygments_lexer": "ipython3",
   "version": "3.7.3"
  },
  "toc": {
   "base_numbering": 1,
   "nav_menu": {},
   "number_sections": true,
   "sideBar": true,
   "skip_h1_title": false,
   "title_cell": "Table of Contents",
   "title_sidebar": "Contents",
   "toc_cell": false,
   "toc_position": {},
   "toc_section_display": true,
   "toc_window_display": false
  }
 },
 "nbformat": 4,
 "nbformat_minor": 2
}
