{
 "cells": [
  {
   "cell_type": "markdown",
   "metadata": {},
   "source": [
    "# NKSOPS_03_DataTransformation_02"
   ]
  },
  {
   "cell_type": "code",
   "execution_count": null,
   "metadata": {},
   "outputs": [],
   "source": [
    "#load Enviornment\n",
    "%run NKSOPS_02_ClassAndMethods_01.ipynb"
   ]
  },
  {
   "cell_type": "code",
   "execution_count": null,
   "metadata": {},
   "outputs": [],
   "source": [
    "# Initalize\n",
    "NKS_OPS_Flight_INFO = NKS_OPS(input_path = r\"C:\\Users\\76350\\Documents\\NKS_OPS\\03_Data\\01_Raw_Data\\DataFiles\\FlightInfo\\FullFlight\\*.csv\"\n",
    "                                   , export_parent_dir = r\"C:\\Users\\76350\\Documents\\NKS_OPS\\03_Data\\02_Processed_Data\"\n",
    "                                   , input_columns = None\n",
    "                                   , export_columns = None\n",
    "                                   , research_topic = 'NKS_OPS_FlIGHT_INFO'\n",
    "                                   , severity = 'H'\n",
    "                                   , logfile = False\n",
    "                                   , sqlite_create = r\"C:\\Users\\76350\\Documents\\NKS_OPS\\03_Data\\03_Cleaned_Data\\DataBase\\NKS_OPS_DB_sqlite.db\")\n",
    "\n",
    "NKS_OPS_DELAY_CANCEL = NKS_OPS(input_path = r\"C:\\Users\\76350\\Documents\\NKS_OPS\\03_Data\\01_Raw_Data\\DataFiles\\FlightInfo\\FlightDelayAndCancel\\*.csv\"\n",
    "                                   , export_parent_dir = r\"C:\\Users\\76350\\Documents\\NKS_OPS\\03_Data\\02_Processed_Data\"\n",
    "                                   , input_columns = None\n",
    "                                   , export_columns = None\n",
    "                                   , research_topic = 'NKS_OPS_DELAY_CANCEL'\n",
    "                                   , severity = 'H'\n",
    "                                   , logfile = False\n",
    "                                   , sqlite_create = r\"C:\\Users\\76350\\Documents\\NKS_OPS\\03_Data\\03_Cleaned_Data\\DataBase\\NKS_OPS_DB_sqlite.db\")"
   ]
  },
  {
   "cell_type": "code",
   "execution_count": null,
   "metadata": {},
   "outputs": [],
   "source": [
    "#1 Execute method to get impoted email files, add unique_id/ filepath, and\n",
    "NKS_OPS_Flight_INFO.NKS_OPS_Data_Study()\n",
    "NKS_OPS_DELAY_CANCEL.NKS_OPS_Data_Study()\n",
    "\n",
    "#1.a Append to single dataframe and rename column\n",
    "flight_info = NKS_OPS_Flight_INFO.Append_to_DF()\n",
    "delay_cancel = NKS_OPS_DELAY_CANCEL.Append_to_DF()\n"
   ]
  },
  {
   "cell_type": "code",
   "execution_count": null,
   "metadata": {},
   "outputs": [],
   "source": [
    "flight_info = flight_info.rename(columns= {'Deprt. Date': 'Depart_Date','Airport Code(Deprt.)':'Apt_Deprt', 'Airport Code(Arrvl.)': 'Apt_Arrvl'})\n",
    "flight_info[['Depart_Day','Depart_Month','Depart_Year']] = flight_info['Depart_Date'].str.split('/',expand=True)\n",
    "flight_info['Depart_Day'] = flight_info['Depart_Day'].apply('{:0>2}'.format)\n",
    "flight_info['Depart_Month'] = flight_info['Depart_Month'].apply('{:0>2}'.format)\n",
    "flight_info['Depart_Year'] = flight_info['Depart_Year'].apply('{:0>2}'.format)\n",
    "flight_info['Flight'] = flight_info['Flight'].str.replace(',','')\n",
    "flight_info['Unique_Flight'] = flight_info.Depart_Day+\"_\"+flight_info.Depart_Month+\"_\"+flight_info.Depart_Year+\"_\"+flight_info.Flight+\"_\"+flight_info.Apt_Deprt+\"_\"+flight_info.Apt_Arrvl+\"_\"+flight_info.Tail.astype(str)\n",
    "flight_info['Unique_Flight_Deprt'] = flight_info.Depart_Day+\"_\"+flight_info.Depart_Month+\"_\"+flight_info.Depart_Year+\"_\"+flight_info.Apt_Deprt+\"_\"+flight_info.Tail.astype(str)\n",
    "flight_info['Unique_Flight_Arrvl'] = flight_info.Depart_Day+\"_\"+flight_info.Depart_Month+\"_\"+flight_info.Depart_Year+\"_\"+flight_info.Apt_Arrvl+\"_\"+flight_info.Tail.astype(str)\n",
    "\n",
    "delay_cancel = delay_cancel.rename(columns= {'Deprt. Date': 'Depart_Date','Airport Code(Deprt.)':'Apt_Deprt', 'Airport Code(Arrvl.)': 'Apt_Arrvl','Actual Delay':'Actual_Delay','Delay Code':'Delay_Code'})\n",
    "delay_cancel[['Depart_Day','Depart_Month','Depart_Year']] = delay_cancel['Depart_Date'].str.split('/',expand=True)\n",
    "delay_cancel['Depart_Day'] = delay_cancel['Depart_Day'].apply('{:0>2}'.format)\n",
    "delay_cancel['Depart_Month'] = delay_cancel['Depart_Month'].apply('{:0>2}'.format)\n",
    "delay_cancel['Depart_Year'] = delay_cancel['Depart_Year'].apply('{:0>2}'.format)\n",
    "delay_cancel['Flight'] = delay_cancel['Flight'].str.replace(',','')\n",
    "delay_cancel['Unique_Flight'] = delay_cancel.Depart_Day+\"_\"+delay_cancel.Depart_Month+\"_\"+delay_cancel.Depart_Year+\"_\"+delay_cancel.Flight+\"_\"+delay_cancel.Apt_Deprt+\"_\"+delay_cancel.Apt_Arrvl+\"_\"+delay_cancel.Tail.astype(str)\n"
   ]
  },
  {
   "cell_type": "code",
   "execution_count": null,
   "metadata": {},
   "outputs": [],
   "source": [
    "merged_flights = flight_info.merge(delay_cancel[['Unique_Flight','Actual_Delay','Delay_Code']],how='left',on='Unique_Flight')\n",
    "move_col = merged_flights.columns.tolist()\n",
    "move_col.insert(1, move_col.pop(move_col.index('Unique_Flight')))\n",
    "move_col.insert(2, move_col.pop(move_col.index('Unique_Flight_Deprt')))\n",
    "move_col.insert(3, move_col.pop(move_col.index('Unique_Flight_Arrvl')))\n",
    "move_col.insert(4, move_col.pop(move_col.index('Actual_Delay')))\n",
    "move_col.insert(5, move_col.pop(move_col.index('Delay_Code')))\n",
    "move_col.insert(15, move_col.pop(move_col.index('FILE_PATH')))\n",
    "merged_flights = merged_flights.reindex(columns= move_col).drop(columns=(['Unique_ID','ID'])).rename_axis('ID').reset_index()\n",
    "merged_flights['Unique_Flight'] = merged_flights['Unique_Flight'].astype(str) + \"_\"+merged_flights['Delay_Code'].astype(str)+ \"_\"+merged_flights['ID'].astype(str)\n",
    "display(merged_flights.head())\n"
   ]
  },
  {
   "cell_type": "code",
   "execution_count": null,
   "metadata": {},
   "outputs": [],
   "source": [
    "#export to sqlite3\n",
    "NKS_OPS_Flight_INFO.NKS_OPS_DB(db_file=NKS_OPS_Flight_INFO.sqlite_create)\n",
    "num_rows = len(merged_flights)\n",
    "conn = NKS_OPS_Flight_INFO.create_connection(db_file = NKS_OPS_Flight_INFO.sqlite_create)\n",
    "cur = conn.cursor()\n",
    "for opsrow in range(num_rows):\n",
    "    try:\n",
    "        merged_flights.iloc[opsrow:opsrow+1].to_sql(name='NKS_FLIGHTS', con=conn, if_exists='append', chunksize=10000, index=False)\n",
    "    except exc.IntegrityError:\n",
    "        #Ignore duplicates\n",
    "        pass"
   ]
  },
  {
   "cell_type": "code",
   "execution_count": null,
   "metadata": {},
   "outputs": [],
   "source": [
    "conn.close()"
   ]
  },
  {
   "cell_type": "code",
   "execution_count": null,
   "metadata": {},
   "outputs": [],
   "source": [
    "\n"
   ]
  }
 ],
 "metadata": {
  "hide_input": false,
  "kernelspec": {
   "display_name": "Python 3",
   "language": "python",
   "name": "python3"
  },
  "language_info": {
   "codemirror_mode": {
    "name": "ipython",
    "version": 3
   },
   "file_extension": ".py",
   "mimetype": "text/x-python",
   "name": "python",
   "nbconvert_exporter": "python",
   "pygments_lexer": "ipython3",
   "version": "3.7.3"
  },
  "toc": {
   "base_numbering": 1,
   "nav_menu": {},
   "number_sections": true,
   "sideBar": true,
   "skip_h1_title": false,
   "title_cell": "Table of Contents",
   "title_sidebar": "Contents",
   "toc_cell": false,
   "toc_position": {},
   "toc_section_display": true,
   "toc_window_display": false
  }
 },
 "nbformat": 4,
 "nbformat_minor": 2
}
